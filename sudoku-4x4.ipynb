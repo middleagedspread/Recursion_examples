{
 "cells": [
  {
   "cell_type": "code",
   "execution_count": 9,
   "metadata": {},
   "outputs": [],
   "source": [
    "from copy import deepcopy\n",
    "\n",
    "Grid = [['.', '.', '2', '3'],\n",
    "        ['.', '.', '.', '.'],\n",
    "        ['.', '.', '.', '.'],\n",
    "        ['3', '4', '.', '.']]\n",
    "\n",
    "## NEEDS EDITTING\n",
    "elements = ['1','2','3','4'] #allowed numbers"
   ]
  },
  {
   "cell_type": "code",
   "execution_count": 10,
   "metadata": {},
   "outputs": [],
   "source": [
    "def get_rows(new_Grid): # accepts a n rows x m columns matrix\n",
    "                        # (list of n lists each of m items), e.g.:\n",
    "                        # [['.', '.', '2', '3'], ['.', ' ...\n",
    "                        # returns a list containing n dictionaries, representing rows\n",
    "                        # mapping m matrix entries to matrix coordinates, e.g.:\n",
    "                        # [{(0, 0): '.', (0, 1): '.', (0, 2): '2', (0, 3): '3'}, {(1, 0): ...\n",
    "    rows = [] #create an empty list\n",
    "    ## NEEDS EDITTING\n",
    "    for r in range(len(Grid)): #for each sublist\n",
    "        row = {} #create a dictionary\n",
    "        for c in range(len(Grid)): # for each item in the sublist\n",
    "            row[(r,c)] = new_Grid[r][c] # set the key as a tuple representing grid coordinate\n",
    "                                        # and the value to the value at that point in the sublist\n",
    "        rows.append(row) #append each dictionary to the rows list\n",
    "    return rows"
   ]
  },
  {
   "cell_type": "code",
   "execution_count": 11,
   "metadata": {},
   "outputs": [
    {
     "name": "stdout",
     "output_type": "stream",
     "text": [
      "{(0, 0): '.', (0, 1): '.', (0, 2): '2', (0, 3): '3'}\n",
      "{(1, 0): '.', (1, 1): '.', (1, 2): '.', (1, 3): '.'}\n",
      "{(2, 0): '.', (2, 1): '.', (2, 2): '.', (2, 3): '.'}\n",
      "{(3, 0): '3', (3, 1): '4', (3, 2): '.', (3, 3): '.'}\n"
     ]
    }
   ],
   "source": [
    "## This cell is only for clarification and it is not part of the original code\n",
    "rows = get_rows(Grid)\n",
    "for r in rows:\n",
    "    print(r)"
   ]
  },
  {
   "cell_type": "code",
   "execution_count": 12,
   "metadata": {},
   "outputs": [],
   "source": [
    "def get_cols(new_Grid):# accepts a n rows x m columns matrix\n",
    "                        # (list of n lists each of m items), e.g.:\n",
    "                        # [['.', '.', '2', '3'], ['.', ' ...\n",
    "                        # returns a list containing n dictionaries, representing columns\n",
    "                        # mapping m matrix entries to matrix coordinates, e.g.:\n",
    "                        # [{(0, 0): '.', (1, 0): '.', (2, 0): '.', (3, 0): '3'}, {(0, 1): '.', ...\n",
    "    cols = [] #create an empty list\n",
    "    ## NEEDS EDITTING\n",
    "    for c in range(len(Grid)): #for each sublist\n",
    "        col = {} #create a dictionary\n",
    "        for r in range(len(Grid)): # for each item in the sublist\n",
    "            col[(r,c)] = new_Grid[r][c] # set the key as a tuple representing grid coordinate\n",
    "                                        # and the value to the value at that point in the sublist\n",
    "        cols.append(col) #append each dictionary to the rows list\n",
    "    return cols"
   ]
  },
  {
   "cell_type": "code",
   "execution_count": 13,
   "metadata": {
    "scrolled": true
   },
   "outputs": [
    {
     "name": "stdout",
     "output_type": "stream",
     "text": [
      "{(0, 0): '.', (1, 0): '.', (2, 0): '.', (3, 0): '3'}\n",
      "{(0, 1): '.', (1, 1): '.', (2, 1): '.', (3, 1): '4'}\n",
      "{(0, 2): '2', (1, 2): '.', (2, 2): '.', (3, 2): '.'}\n",
      "{(0, 3): '3', (1, 3): '.', (2, 3): '.', (3, 3): '.'}\n"
     ]
    }
   ],
   "source": [
    "## This cell is only for clarification and it is not part of the original code\n",
    "cols = get_cols(Grid)\n",
    "for c in cols:\n",
    "    print(c)"
   ]
  },
  {
   "cell_type": "code",
   "execution_count": 18,
   "metadata": {},
   "outputs": [],
   "source": [
    "## NEEDS EDITTING\n",
    "square_indx = [[(0,1),(0,1)],\n",
    "               [(0,1),(2,3)],\n",
    "               [(2,3),(0,1)],\n",
    "               [(2,3),(2,3)]\n",
    "              ]\n",
    "# a list of lists, each list containg a pair of tuples\n",
    "# each tuple representing the rows and columns of a square\n",
    "# e.g. top left square represented by rows (0,1) and columns (0,1)\n",
    "\n",
    "def get_squares(new_Grid):  # gets a list of dictionaries, each representing a square\n",
    "                            # mapping the values in each cell in the squares\n",
    "                            # to their corrdiantes in the matrix\n",
    "    squares = []\n",
    "    ## NEEDS EDITTING\n",
    "    for sq in range(len(square_indx)):\n",
    "        square = {}\n",
    "        for r in square_indx[sq][0]: #get the rows\n",
    "            for c in square_indx[sq][1]: #get the columns\n",
    "                square[(r,c)] = new_Grid[r][c] #get the values\n",
    "        squares.append(square) \n",
    "    return squares"
   ]
  },
  {
   "cell_type": "code",
   "execution_count": 19,
   "metadata": {},
   "outputs": [
    {
     "name": "stdout",
     "output_type": "stream",
     "text": [
      "{(0, 0): '.', (0, 1): '.', (1, 0): '.', (1, 1): '.'}\n",
      "{(0, 2): '2', (0, 3): '3', (1, 2): '.', (1, 3): '.'}\n",
      "{(2, 0): '.', (2, 1): '.', (3, 0): '3', (3, 1): '4'}\n",
      "{(2, 2): '.', (2, 3): '.', (3, 2): '.', (3, 3): '.'}\n"
     ]
    }
   ],
   "source": [
    "## This cell is only for clarification and it is not part of the original code\n",
    "squares = get_squares(Grid)\n",
    "for sq in squares:\n",
    "    print(sq)"
   ]
  },
  {
   "cell_type": "code",
   "execution_count": 20,
   "metadata": {},
   "outputs": [],
   "source": [
    "def get_all_related_cells(new_Grid): #returns a list of dictionaries representing\n",
    "                                     # squares, rows and columns\n",
    "    ## NEEDS EDITTING\n",
    "    rows = get_rows(new_Grid)\n",
    "    cols = get_cols(new_Grid)\n",
    "    squares = get_squares(new_Grid)\n",
    "    all_vec = squares + rows + cols\n",
    "    return all_vec"
   ]
  },
  {
   "cell_type": "code",
   "execution_count": 21,
   "metadata": {},
   "outputs": [
    {
     "name": "stdout",
     "output_type": "stream",
     "text": [
      "{(0, 0): '.', (0, 1): '.', (1, 0): '.', (1, 1): '.'}\n",
      "{(0, 2): '2', (0, 3): '3', (1, 2): '.', (1, 3): '.'}\n",
      "{(2, 0): '.', (2, 1): '.', (3, 0): '3', (3, 1): '4'}\n",
      "{(2, 2): '.', (2, 3): '.', (3, 2): '.', (3, 3): '.'}\n",
      "{(0, 0): '.', (0, 1): '.', (0, 2): '2', (0, 3): '3'}\n",
      "{(1, 0): '.', (1, 1): '.', (1, 2): '.', (1, 3): '.'}\n",
      "{(2, 0): '.', (2, 1): '.', (2, 2): '.', (2, 3): '.'}\n",
      "{(3, 0): '3', (3, 1): '4', (3, 2): '.', (3, 3): '.'}\n",
      "{(0, 0): '.', (1, 0): '.', (2, 0): '.', (3, 0): '3'}\n",
      "{(0, 1): '.', (1, 1): '.', (2, 1): '.', (3, 1): '4'}\n",
      "{(0, 2): '2', (1, 2): '.', (2, 2): '.', (3, 2): '.'}\n",
      "{(0, 3): '3', (1, 3): '.', (2, 3): '.', (3, 3): '.'}\n"
     ]
    }
   ],
   "source": [
    "## This cell is only for clarification and it is not part of the original code\n",
    "all_vec = get_all_related_cells(Grid)\n",
    "for vector in all_vec:\n",
    "    print(vector)"
   ]
  },
  {
   "cell_type": "code",
   "execution_count": 22,
   "metadata": {},
   "outputs": [],
   "source": [
    "def get_new_r_c(r, c):\n",
    "    ## NEEDS EDITTING\n",
    "    if c == 3: #if you have reached the end of the row\n",
    "        if r==3: #if you've also reahced the end of the rows\n",
    "            new_r = r\n",
    "            new_c = c\n",
    "        else: \n",
    "            new_r = r+1 #add one to rows, and reset columns to 0\n",
    "            new_c = 0\n",
    "    else:\n",
    "        new_r = r \n",
    "        new_c = c+1 #add one to columns\n",
    "        \n",
    "    return new_r, new_c"
   ]
  },
  {
   "cell_type": "code",
   "execution_count": 24,
   "metadata": {},
   "outputs": [
    {
     "name": "stdout",
     "output_type": "stream",
     "text": [
      "(0, 1)\n",
      "(1, 0)\n",
      "(2, 0)\n",
      "(3, 3)\n"
     ]
    }
   ],
   "source": [
    "## This cell is only for clarification and it is not part of the original code\n",
    "print(get_new_r_c(0,0))\n",
    "print(get_new_r_c(0,3))\n",
    "print(get_new_r_c(1,3))\n",
    "print(get_new_r_c(3,3))"
   ]
  },
  {
   "cell_type": "code",
   "execution_count": 30,
   "metadata": {},
   "outputs": [],
   "source": [
    "def get_legal_for_cell(cell_r, cell_c, new_Grid):\n",
    "    ## NEEDS EDITTING\n",
    "    if new_Grid[cell_r][cell_c] != '.':\n",
    "        return [None],[None],[None]\n",
    "\n",
    "    map = {}\n",
    "    ## NEEDS EDITTING\n",
    "    all_groups = get_all_related_cells(new_Grid) # get all the squares, rows and columns\n",
    "    for group in all_groups:\n",
    "        if (cell_r,cell_c) in group.keys(): # find the square, column and row that contain this cell\n",
    "            map.update(group)   # add the elements (key value pairs) from the relevant square\n",
    "                                # row and column to our map dictionary\n",
    "    exist = []\n",
    "    ## NEEDS EDITTING\n",
    "    for m in map: #for items in map\n",
    "        if not map[m] ==\".\": #if it's a number rather than a  '.'\n",
    "            exist.append(map[m]) #append it to the exists list\n",
    "    \n",
    "    \n",
    "    ## NEEDS EDITTING\n",
    "    rest = list(set(elements)-set(exist)) # a list made of the set of elements not in the set exist\n",
    "    return rest, exist, map"
   ]
  },
  {
   "cell_type": "code",
   "execution_count": 31,
   "metadata": {},
   "outputs": [
    {
     "name": "stdout",
     "output_type": "stream",
     "text": [
      "{(0, 0): '.', (0, 1): '.', (1, 0): '.', (1, 1): '.', (0, 2): '2', (0, 3): '3', (2, 0): '.', (3, 0): '3'}\n",
      "['2', '3', '3']\n",
      "['1', '4']\n"
     ]
    }
   ],
   "source": [
    "## This cell is only for clarification and it is not part of the original code\n",
    "r = 0\n",
    "c = 0\n",
    "legal_for_cell, exist, map = get_legal_for_cell(r, c, Grid)\n",
    "print(map)\n",
    "print(exist)\n",
    "print(legal_for_cell)"
   ]
  },
  {
   "cell_type": "code",
   "execution_count": 32,
   "metadata": {},
   "outputs": [],
   "source": [
    "def is_complete(new_Grid):\n",
    "    grid_complete = True\n",
    "    for r in new_Grid:\n",
    "        grid_complete = grid_complete and not ('.' in r)\n",
    "    return grid_complete\n",
    "\n",
    "def print_grid(new_Grid):\n",
    "    for item in new_Grid:\n",
    "        print(item)\n",
    "    print()"
   ]
  },
  {
   "cell_type": "code",
   "execution_count": 33,
   "metadata": {},
   "outputs": [
    {
     "name": "stdout",
     "output_type": "stream",
     "text": [
      "False\n"
     ]
    }
   ],
   "source": [
    "## This cell is only for clarification and it is not part of the original code\n",
    "print(is_complete(Grid))"
   ]
  },
  {
   "cell_type": "code",
   "execution_count": 34,
   "metadata": {},
   "outputs": [
    {
     "name": "stdout",
     "output_type": "stream",
     "text": [
      "['.', '.', '2', '3']\n",
      "['.', '.', '.', '.']\n",
      "['.', '.', '.', '.']\n",
      "['3', '4', '.', '.']\n",
      "\n"
     ]
    }
   ],
   "source": [
    "## This cell is only for clarification and it is not part of the original code\n",
    "print_grid(Grid)"
   ]
  },
  {
   "cell_type": "code",
   "execution_count": 36,
   "metadata": {},
   "outputs": [
    {
     "name": "stdout",
     "output_type": "stream",
     "text": [
      "x: [50, 2, 150, 200]\n",
      "y: [50, 2, 150, 200]\n",
      "z: [1, 2, 3]\n"
     ]
    }
   ],
   "source": [
    "## This cell is only for clarification and it is not part of the original code\n",
    "# Explaining deep copy\n",
    "from copy import deepcopy\n",
    "x = [1,2,3]\n",
    "y = x\n",
    "z = deepcopy(x)\n",
    "x[0] = 50\n",
    "x[2] = 150\n",
    "x.append(200)\n",
    "print('x:' , x)\n",
    "print('y:' , y)\n",
    "print('z:' , z)\n"
   ]
  },
  {
   "cell_type": "code",
   "execution_count": 39,
   "metadata": {
    "scrolled": true
   },
   "outputs": [
    {
     "name": "stdout",
     "output_type": "stream",
     "text": [
      "1   1   2   3   5   8   13   21   34   55   89   144   233   377   610   987   1597   2584   4181   "
     ]
    }
   ],
   "source": [
    "## This cell is only for clarification and it is not part of the original code\n",
    "## f(n) = f(n-1) + f(n-2)\n",
    "## 1,1,2,3,5,8,13,21,34,55,89, ...\n",
    "def fibonacci(n):\n",
    "    ## NEEDS EDITTING\n",
    "    if n == 1 or n == 2:\n",
    "        return 1\n",
    "    return fibonacci(n-1)+fibonacci(n-2)\n",
    "\n",
    "for i in range (1,20):\n",
    "    print(fibonacci(i), end='   ')\n",
    "    "
   ]
  },
  {
   "cell_type": "code",
   "execution_count": 43,
   "metadata": {},
   "outputs": [
    {
     "name": "stdout",
     "output_type": "stream",
     "text": [
      "Complete:\n",
      "['4', '1', '2', '3']\n",
      "['2', '3', '4', '1']\n",
      "['1', '2', '3', '4']\n",
      "['3', '4', '1', '2']\n",
      "\n"
     ]
    }
   ],
   "source": [
    "def solve_step_in_sudoko(last_Grid, r, c):\n",
    "    ## NEEDS EDITTING\n",
    "    if is_complete(last_Grid):\n",
    "        print('Complete:')\n",
    "        print_grid(last_Grid)\n",
    "        return 0\n",
    "    ## NEEDS EDITTING\n",
    "    legal_for_cell, _, _ = get_legal_for_cell(r,c, last_Grid) # get legal next number for cell\n",
    "    \n",
    "    ## NEEDS EDITTING\n",
    "    for item in legal_for_cell: # for each legal number in next cell\n",
    "        new_Grid = deepcopy(last_Grid) # copy the last grid\n",
    "        if last_Grid[r][c]=='.': #check it's an empty cell\n",
    "            new_Grid[r][c]=item #add the legal number to the next cell\n",
    "        new_r, new_c = get_new_r_c(r,c) # get the next cell address\n",
    "    ## NEEDS EDITTING\n",
    "    solve_step_in_sudoko(new_Grid, new_r, new_c) #recursively call next step\n",
    "    \n",
    "\n",
    "solve_step_in_sudoko(Grid, 0, 0)"
   ]
  },
  {
   "cell_type": "code",
   "execution_count": null,
   "metadata": {},
   "outputs": [],
   "source": []
  }
 ],
 "metadata": {
  "kernelspec": {
   "display_name": "Python 3",
   "language": "python",
   "name": "python3"
  },
  "language_info": {
   "codemirror_mode": {
    "name": "ipython",
    "version": 3
   },
   "file_extension": ".py",
   "mimetype": "text/x-python",
   "name": "python",
   "nbconvert_exporter": "python",
   "pygments_lexer": "ipython3",
   "version": "3.8.5"
  }
 },
 "nbformat": 4,
 "nbformat_minor": 4
}
