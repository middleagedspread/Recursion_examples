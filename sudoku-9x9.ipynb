{
 "cells": [
  {
   "cell_type": "code",
   "execution_count": 3,
   "metadata": {},
   "outputs": [],
   "source": [
    "# This algorithm has complexity O(9^(9*9))\n",
    "# it won't run without the kernel aborting\n"
   ]
  },
  {
   "cell_type": "code",
   "execution_count": null,
   "metadata": {},
   "outputs": [],
   "source": [
    "from copy import deepcopy\n",
    "\n",
    "#the grid to be solved\n",
    "Grid = [['5', '.', '1', '.', '.', '4', '.', '.', '2'],\n",
    "        ['6', '.', '9', '5', '.', '7', '3', '8', '.'],\n",
    "        ['.', '.', '7', '.', '.', '.', '4', '.', '.'],\n",
    "        ['.', '.', '6', '3', '.', '2', '.', '1', '.'],\n",
    "        ['2', '1', '.', '.', '.', '.', '.', '.', '6'],\n",
    "        ['7', '.', '.', '9', '.', '.', '8', '2', '4'],\n",
    "        ['3', '.', '.', '6', '.', '1', '2', '.', '8'],\n",
    "        ['9', '6', '.', '7', '.', '.', '1', '.', '5'],\n",
    "        ['.', '.', '5', '2', '.', '.', '6', '7', '.']]\n",
    "\n",
    "elements = ['1','2','3','4','5','6','7','8','9'] #allowed numbers\n",
    "               "
   ]
  },
  {
   "cell_type": "code",
   "execution_count": 4,
   "metadata": {},
   "outputs": [],
   "source": [
    "def get_rows(new_Grid): # accepts a n rows x m columns matrix\n",
    "                        # (list of n lists each of m items), e.g.:\n",
    "                        # [['.', '.', '2', '3'], ['.', ' ...\n",
    "                        # returns a list containing n dictionaries, representing rows\n",
    "                        # mapping m matrix entries to matrix coordinates, e.g.:\n",
    "                        # [{(0, 0): '.', (0, 1): '.', (0, 2): '2', (0, 3): '3'}, {(1, 0): ...\n",
    "    rows = [] #create an empty list\n",
    "    ## NEEDS EDITTING\n",
    "    for r in range(len(Grid)): #for each sublist\n",
    "        row = {} #create a dictionary\n",
    "        for c in range(len(Grid)): # for each item in the sublist\n",
    "            row[(r,c)] = new_Grid[r][c] # set the key as a tuple representing grid coordinate\n",
    "                                        # and the value to the value at that point in the sublist\n",
    "        rows.append(row) #append each dictionary to the rows list\n",
    "    return rows"
   ]
  },
  {
   "cell_type": "code",
   "execution_count": 5,
   "metadata": {},
   "outputs": [
    {
     "name": "stdout",
     "output_type": "stream",
     "text": [
      "{(0, 0): '5', (0, 1): '.', (0, 2): '1', (0, 3): '.', (0, 4): '.', (0, 5): '4', (0, 6): '.', (0, 7): '.', (0, 8): '2'}\n",
      "{(1, 0): '6', (1, 1): '.', (1, 2): '9', (1, 3): '5', (1, 4): '.', (1, 5): '7', (1, 6): '3', (1, 7): '8', (1, 8): '.'}\n",
      "{(2, 0): '.', (2, 1): '.', (2, 2): '7', (2, 3): '.', (2, 4): '.', (2, 5): '.', (2, 6): '4', (2, 7): '.', (2, 8): '.'}\n",
      "{(3, 0): '.', (3, 1): '.', (3, 2): '6', (3, 3): '3', (3, 4): '.', (3, 5): '2', (3, 6): '.', (3, 7): '1', (3, 8): '.'}\n",
      "{(4, 0): '2', (4, 1): '1', (4, 2): '.', (4, 3): '.', (4, 4): '.', (4, 5): '.', (4, 6): '.', (4, 7): '.', (4, 8): '6'}\n",
      "{(5, 0): '7', (5, 1): '.', (5, 2): '.', (5, 3): '9', (5, 4): '.', (5, 5): '.', (5, 6): '8', (5, 7): '2', (5, 8): '4'}\n",
      "{(6, 0): '3', (6, 1): '.', (6, 2): '.', (6, 3): '6', (6, 4): '.', (6, 5): '1', (6, 6): '2', (6, 7): '.', (6, 8): '8'}\n",
      "{(7, 0): '9', (7, 1): '6', (7, 2): '.', (7, 3): '7', (7, 4): '.', (7, 5): '.', (7, 6): '1', (7, 7): '.', (7, 8): '5'}\n",
      "{(8, 0): '.', (8, 1): '.', (8, 2): '5', (8, 3): '2', (8, 4): '.', (8, 5): '.', (8, 6): '6', (8, 7): '7', (8, 8): '.'}\n"
     ]
    }
   ],
   "source": [
    "## This cell is only for clarification and it is not part of the original code\n",
    "rows = get_rows(Grid)\n",
    "for r in rows:\n",
    "    print(r)"
   ]
  },
  {
   "cell_type": "code",
   "execution_count": 6,
   "metadata": {},
   "outputs": [],
   "source": [
    "def get_cols(new_Grid):# accepts a n rows x m columns matrix\n",
    "                        # (list of n lists each of m items), e.g.:\n",
    "                        # [['.', '.', '2', '3'], ['.', ' ...\n",
    "                        # returns a list containing n dictionaries, representing columns\n",
    "                        # mapping m matrix entries to matrix coordinates, e.g.:\n",
    "                        # [{(0, 0): '.', (1, 0): '.', (2, 0): '.', (3, 0): '3'}, {(0, 1): '.', ...\n",
    "    \n",
    "    cols = [] #create an empty list\n",
    "    for c in range(len(Grid)): #for each sublist\n",
    "        col = {} #create a dictionary\n",
    "        for r in range(len(Grid)): # for each item in the sublist\n",
    "            col[(r,c)] = new_Grid[r][c] # set the key as a tuple representing grid coordinate\n",
    "                                        # and the value to the value at that point in the sublist\n",
    "        cols.append(col) #append each dictionary to the rows list\n",
    "    return cols"
   ]
  },
  {
   "cell_type": "code",
   "execution_count": 7,
   "metadata": {
    "scrolled": true
   },
   "outputs": [
    {
     "name": "stdout",
     "output_type": "stream",
     "text": [
      "{(0, 0): '5', (1, 0): '6', (2, 0): '.', (3, 0): '.', (4, 0): '2', (5, 0): '7', (6, 0): '3', (7, 0): '9', (8, 0): '.'}\n",
      "{(0, 1): '.', (1, 1): '.', (2, 1): '.', (3, 1): '.', (4, 1): '1', (5, 1): '.', (6, 1): '.', (7, 1): '6', (8, 1): '.'}\n",
      "{(0, 2): '1', (1, 2): '9', (2, 2): '7', (3, 2): '6', (4, 2): '.', (5, 2): '.', (6, 2): '.', (7, 2): '.', (8, 2): '5'}\n",
      "{(0, 3): '.', (1, 3): '5', (2, 3): '.', (3, 3): '3', (4, 3): '.', (5, 3): '9', (6, 3): '6', (7, 3): '7', (8, 3): '2'}\n",
      "{(0, 4): '.', (1, 4): '.', (2, 4): '.', (3, 4): '.', (4, 4): '.', (5, 4): '.', (6, 4): '.', (7, 4): '.', (8, 4): '.'}\n",
      "{(0, 5): '4', (1, 5): '7', (2, 5): '.', (3, 5): '2', (4, 5): '.', (5, 5): '.', (6, 5): '1', (7, 5): '.', (8, 5): '.'}\n",
      "{(0, 6): '.', (1, 6): '3', (2, 6): '4', (3, 6): '.', (4, 6): '.', (5, 6): '8', (6, 6): '2', (7, 6): '1', (8, 6): '6'}\n",
      "{(0, 7): '.', (1, 7): '8', (2, 7): '.', (3, 7): '1', (4, 7): '.', (5, 7): '2', (6, 7): '.', (7, 7): '.', (8, 7): '7'}\n",
      "{(0, 8): '2', (1, 8): '.', (2, 8): '.', (3, 8): '.', (4, 8): '6', (5, 8): '4', (6, 8): '8', (7, 8): '5', (8, 8): '.'}\n"
     ]
    }
   ],
   "source": [
    "## This cell is only for clarification and it is not part of the original code\n",
    "cols = get_cols(Grid)\n",
    "for c in cols:\n",
    "    print(c)"
   ]
  },
  {
   "cell_type": "code",
   "execution_count": 8,
   "metadata": {},
   "outputs": [],
   "source": [
    "\n",
    "square_indx = [[(0,1,2),(0,1,2)],\n",
    "               [(0,1,2),(3,4,5)],\n",
    "               [(0,1,2),(6,7,8)],\n",
    "               [(3,4,5),(0,1,2)],\n",
    "               [(3,4,5),(3,4,5)],\n",
    "               [(3,4,5),(6,7,8)],\n",
    "               [(6,7,8),(0,1,2)],\n",
    "               [(6,7,8),(3,4,5)],\n",
    "               [(6,7,8),(6,7,8)]\n",
    "              ]\n",
    "# a list of lists, each list containg a pair of tuples\n",
    "# each tuple representing the rows and columns of a square\n",
    "# e.g. top left square represented by rows (0,1,2) and columns (0,1,2)\n",
    "\n",
    "def get_squares(new_Grid):  # gets a list of dictionaries, each representing a square\n",
    "                            # mapping the values in each cell in the squares\n",
    "                            # to their corrdiantes in the matrix\n",
    "    squares = []\n",
    "    for sq in range(len(square_indx)):\n",
    "        square = {}\n",
    "        for r in square_indx[sq][0]: #get the rows\n",
    "            for c in square_indx[sq][1]: #get the columns\n",
    "                square[(r,c)] = new_Grid[r][c] #get the values\n",
    "        squares.append(square) \n",
    "    return squares"
   ]
  },
  {
   "cell_type": "code",
   "execution_count": 9,
   "metadata": {},
   "outputs": [
    {
     "name": "stdout",
     "output_type": "stream",
     "text": [
      "{(0, 0): '5', (0, 1): '.', (0, 2): '1', (1, 0): '6', (1, 1): '.', (1, 2): '9', (2, 0): '.', (2, 1): '.', (2, 2): '7'}\n",
      "{(0, 3): '.', (0, 4): '.', (0, 5): '4', (1, 3): '5', (1, 4): '.', (1, 5): '7', (2, 3): '.', (2, 4): '.', (2, 5): '.'}\n",
      "{(0, 6): '.', (0, 7): '.', (0, 8): '2', (1, 6): '3', (1, 7): '8', (1, 8): '.', (2, 6): '4', (2, 7): '.', (2, 8): '.'}\n",
      "{(3, 0): '.', (3, 1): '.', (3, 2): '6', (4, 0): '2', (4, 1): '1', (4, 2): '.', (5, 0): '7', (5, 1): '.', (5, 2): '.'}\n",
      "{(3, 3): '3', (3, 4): '.', (3, 5): '2', (4, 3): '.', (4, 4): '.', (4, 5): '.', (5, 3): '9', (5, 4): '.', (5, 5): '.'}\n",
      "{(3, 6): '.', (3, 7): '1', (3, 8): '.', (4, 6): '.', (4, 7): '.', (4, 8): '6', (5, 6): '8', (5, 7): '2', (5, 8): '4'}\n",
      "{(6, 0): '3', (6, 1): '.', (6, 2): '.', (7, 0): '9', (7, 1): '6', (7, 2): '.', (8, 0): '.', (8, 1): '.', (8, 2): '5'}\n",
      "{(6, 3): '6', (6, 4): '.', (6, 5): '1', (7, 3): '7', (7, 4): '.', (7, 5): '.', (8, 3): '2', (8, 4): '.', (8, 5): '.'}\n",
      "{(6, 6): '2', (6, 7): '.', (6, 8): '8', (7, 6): '1', (7, 7): '.', (7, 8): '5', (8, 6): '6', (8, 7): '7', (8, 8): '.'}\n"
     ]
    }
   ],
   "source": [
    "## This cell is only for clarification and it is not part of the original code\n",
    "squares = get_squares(Grid)\n",
    "for sq in squares:\n",
    "    print(sq)"
   ]
  },
  {
   "cell_type": "code",
   "execution_count": 10,
   "metadata": {},
   "outputs": [],
   "source": [
    "def get_all_related_cells(new_Grid): #returns a list of dictionaries representing\n",
    "                                     # squares, rows and columns\n",
    "    ## NEEDS EDITTING\n",
    "    rows = get_rows(new_Grid)\n",
    "    cols = get_cols(new_Grid)\n",
    "    squares = get_squares(new_Grid)\n",
    "    all_vec = squares + rows + cols\n",
    "    return all_vec"
   ]
  },
  {
   "cell_type": "code",
   "execution_count": 11,
   "metadata": {},
   "outputs": [
    {
     "name": "stdout",
     "output_type": "stream",
     "text": [
      "{(0, 0): '5', (0, 1): '.', (0, 2): '1', (1, 0): '6', (1, 1): '.', (1, 2): '9', (2, 0): '.', (2, 1): '.', (2, 2): '7'}\n",
      "{(0, 3): '.', (0, 4): '.', (0, 5): '4', (1, 3): '5', (1, 4): '.', (1, 5): '7', (2, 3): '.', (2, 4): '.', (2, 5): '.'}\n",
      "{(0, 6): '.', (0, 7): '.', (0, 8): '2', (1, 6): '3', (1, 7): '8', (1, 8): '.', (2, 6): '4', (2, 7): '.', (2, 8): '.'}\n",
      "{(3, 0): '.', (3, 1): '.', (3, 2): '6', (4, 0): '2', (4, 1): '1', (4, 2): '.', (5, 0): '7', (5, 1): '.', (5, 2): '.'}\n",
      "{(3, 3): '3', (3, 4): '.', (3, 5): '2', (4, 3): '.', (4, 4): '.', (4, 5): '.', (5, 3): '9', (5, 4): '.', (5, 5): '.'}\n",
      "{(3, 6): '.', (3, 7): '1', (3, 8): '.', (4, 6): '.', (4, 7): '.', (4, 8): '6', (5, 6): '8', (5, 7): '2', (5, 8): '4'}\n",
      "{(6, 0): '3', (6, 1): '.', (6, 2): '.', (7, 0): '9', (7, 1): '6', (7, 2): '.', (8, 0): '.', (8, 1): '.', (8, 2): '5'}\n",
      "{(6, 3): '6', (6, 4): '.', (6, 5): '1', (7, 3): '7', (7, 4): '.', (7, 5): '.', (8, 3): '2', (8, 4): '.', (8, 5): '.'}\n",
      "{(6, 6): '2', (6, 7): '.', (6, 8): '8', (7, 6): '1', (7, 7): '.', (7, 8): '5', (8, 6): '6', (8, 7): '7', (8, 8): '.'}\n",
      "{(0, 0): '5', (0, 1): '.', (0, 2): '1', (0, 3): '.', (0, 4): '.', (0, 5): '4', (0, 6): '.', (0, 7): '.', (0, 8): '2'}\n",
      "{(1, 0): '6', (1, 1): '.', (1, 2): '9', (1, 3): '5', (1, 4): '.', (1, 5): '7', (1, 6): '3', (1, 7): '8', (1, 8): '.'}\n",
      "{(2, 0): '.', (2, 1): '.', (2, 2): '7', (2, 3): '.', (2, 4): '.', (2, 5): '.', (2, 6): '4', (2, 7): '.', (2, 8): '.'}\n",
      "{(3, 0): '.', (3, 1): '.', (3, 2): '6', (3, 3): '3', (3, 4): '.', (3, 5): '2', (3, 6): '.', (3, 7): '1', (3, 8): '.'}\n",
      "{(4, 0): '2', (4, 1): '1', (4, 2): '.', (4, 3): '.', (4, 4): '.', (4, 5): '.', (4, 6): '.', (4, 7): '.', (4, 8): '6'}\n",
      "{(5, 0): '7', (5, 1): '.', (5, 2): '.', (5, 3): '9', (5, 4): '.', (5, 5): '.', (5, 6): '8', (5, 7): '2', (5, 8): '4'}\n",
      "{(6, 0): '3', (6, 1): '.', (6, 2): '.', (6, 3): '6', (6, 4): '.', (6, 5): '1', (6, 6): '2', (6, 7): '.', (6, 8): '8'}\n",
      "{(7, 0): '9', (7, 1): '6', (7, 2): '.', (7, 3): '7', (7, 4): '.', (7, 5): '.', (7, 6): '1', (7, 7): '.', (7, 8): '5'}\n",
      "{(8, 0): '.', (8, 1): '.', (8, 2): '5', (8, 3): '2', (8, 4): '.', (8, 5): '.', (8, 6): '6', (8, 7): '7', (8, 8): '.'}\n",
      "{(0, 0): '5', (1, 0): '6', (2, 0): '.', (3, 0): '.', (4, 0): '2', (5, 0): '7', (6, 0): '3', (7, 0): '9', (8, 0): '.'}\n",
      "{(0, 1): '.', (1, 1): '.', (2, 1): '.', (3, 1): '.', (4, 1): '1', (5, 1): '.', (6, 1): '.', (7, 1): '6', (8, 1): '.'}\n",
      "{(0, 2): '1', (1, 2): '9', (2, 2): '7', (3, 2): '6', (4, 2): '.', (5, 2): '.', (6, 2): '.', (7, 2): '.', (8, 2): '5'}\n",
      "{(0, 3): '.', (1, 3): '5', (2, 3): '.', (3, 3): '3', (4, 3): '.', (5, 3): '9', (6, 3): '6', (7, 3): '7', (8, 3): '2'}\n",
      "{(0, 4): '.', (1, 4): '.', (2, 4): '.', (3, 4): '.', (4, 4): '.', (5, 4): '.', (6, 4): '.', (7, 4): '.', (8, 4): '.'}\n",
      "{(0, 5): '4', (1, 5): '7', (2, 5): '.', (3, 5): '2', (4, 5): '.', (5, 5): '.', (6, 5): '1', (7, 5): '.', (8, 5): '.'}\n",
      "{(0, 6): '.', (1, 6): '3', (2, 6): '4', (3, 6): '.', (4, 6): '.', (5, 6): '8', (6, 6): '2', (7, 6): '1', (8, 6): '6'}\n",
      "{(0, 7): '.', (1, 7): '8', (2, 7): '.', (3, 7): '1', (4, 7): '.', (5, 7): '2', (6, 7): '.', (7, 7): '.', (8, 7): '7'}\n",
      "{(0, 8): '2', (1, 8): '.', (2, 8): '.', (3, 8): '.', (4, 8): '6', (5, 8): '4', (6, 8): '8', (7, 8): '5', (8, 8): '.'}\n"
     ]
    }
   ],
   "source": [
    "## This cell is only for clarification and it is not part of the original code\n",
    "all_vec = get_all_related_cells(Grid)\n",
    "for vector in all_vec:\n",
    "    print(vector)"
   ]
  },
  {
   "cell_type": "code",
   "execution_count": 12,
   "metadata": {},
   "outputs": [],
   "source": [
    "# get the next cell coordinates by iterating through row then column\n",
    "def get_new_r_c(r, c):\n",
    "    if c == 3: #if you have reached the end of the row\n",
    "        if r==3: #if you've also reahced the end of the rows\n",
    "            new_r = r\n",
    "            new_c = c\n",
    "        else: \n",
    "            new_r = r+1 #add one to rows, and reset columns to 0\n",
    "            new_c = 0\n",
    "    else:\n",
    "        new_r = r \n",
    "        new_c = c+1 #add one to columns\n",
    "        \n",
    "    return new_r, new_c"
   ]
  },
  {
   "cell_type": "code",
   "execution_count": 13,
   "metadata": {},
   "outputs": [
    {
     "name": "stdout",
     "output_type": "stream",
     "text": [
      "(0, 1)\n",
      "(1, 0)\n",
      "(2, 0)\n",
      "(3, 3)\n"
     ]
    }
   ],
   "source": [
    "## This cell is only for clarification and it is not part of the original code\n",
    "print(get_new_r_c(0,0))\n",
    "print(get_new_r_c(0,3))\n",
    "print(get_new_r_c(1,3))\n",
    "print(get_new_r_c(3,3))"
   ]
  },
  {
   "cell_type": "code",
   "execution_count": 14,
   "metadata": {},
   "outputs": [],
   "source": [
    "# get all legal numbers for cell(r,c) in the passed grid\n",
    "def get_legal_for_cell(cell_r, cell_c, new_Grid):\n",
    "\n",
    "    if new_Grid[cell_r][cell_c] != '.': #check there isn't already a number there\n",
    "        return [None],[None],[None]\n",
    "\n",
    "    map = {}\n",
    "\n",
    "    all_groups = get_all_related_cells(new_Grid) # get all the squares, rows and columns\n",
    "    for group in all_groups:\n",
    "        if (cell_r,cell_c) in group.keys(): # find the square, column and row that contain this cell\n",
    "            map.update(group)   # add the elements (key value pairs) from the relevant square\n",
    "                                # row and column to our map dictionary\n",
    "    exist = []\n",
    "    ## NEEDS EDITTING\n",
    "    for m in map: #for items in map\n",
    "        if not map[m] ==\".\": #if it's a number rather than a  '.'\n",
    "            exist.append(map[m]) #append it to the exists list\n",
    "    \n",
    "    \n",
    "    ## NEEDS EDITTING\n",
    "    rest = list(set(elements)-set(exist)) # a list made of the set of elements not in the set exist\n",
    "    return rest, exist, map"
   ]
  },
  {
   "cell_type": "code",
   "execution_count": 15,
   "metadata": {},
   "outputs": [
    {
     "name": "stdout",
     "output_type": "stream",
     "text": [
      "{(0, 0): '5', (0, 1): '.', (0, 2): '1', (1, 0): '6', (1, 1): '.', (1, 2): '9', (2, 0): '.', (2, 1): '.', (2, 2): '7', (0, 3): '.', (0, 4): '.', (0, 5): '4', (0, 6): '.', (0, 7): '.', (0, 8): '2', (3, 1): '.', (4, 1): '1', (5, 1): '.', (6, 1): '.', (7, 1): '6', (8, 1): '.'}\n",
      "['5', '1', '6', '9', '7', '4', '2', '1', '6']\n",
      "['3', '8']\n"
     ]
    }
   ],
   "source": [
    "## This cell is only for clarification and it is not part of the original code\n",
    "r = 0\n",
    "c = 1\n",
    "legal_for_cell, exist, map = get_legal_for_cell(r, c, Grid)\n",
    "print(map)\n",
    "print(exist)\n",
    "print(legal_for_cell)"
   ]
  },
  {
   "cell_type": "code",
   "execution_count": 16,
   "metadata": {},
   "outputs": [],
   "source": [
    "def is_complete(new_Grid):\n",
    "    grid_complete = True\n",
    "    for r in new_Grid:\n",
    "        grid_complete = grid_complete and not ('.' in r)\n",
    "    return grid_complete\n",
    "\n",
    "def print_grid(new_Grid):\n",
    "    for item in new_Grid:\n",
    "        print(item)\n",
    "    print()"
   ]
  },
  {
   "cell_type": "code",
   "execution_count": 17,
   "metadata": {},
   "outputs": [
    {
     "name": "stdout",
     "output_type": "stream",
     "text": [
      "False\n"
     ]
    }
   ],
   "source": [
    "## This cell is only for clarification and it is not part of the original code\n",
    "print(is_complete(Grid))"
   ]
  },
  {
   "cell_type": "code",
   "execution_count": 18,
   "metadata": {},
   "outputs": [
    {
     "name": "stdout",
     "output_type": "stream",
     "text": [
      "['5', '.', '1', '.', '.', '4', '.', '.', '2']\n",
      "['6', '.', '9', '5', '.', '7', '3', '8', '.']\n",
      "['.', '.', '7', '.', '.', '.', '4', '.', '.']\n",
      "['.', '.', '6', '3', '.', '2', '.', '1', '.']\n",
      "['2', '1', '.', '.', '.', '.', '.', '.', '6']\n",
      "['7', '.', '.', '9', '.', '.', '8', '2', '4']\n",
      "['3', '.', '.', '6', '.', '1', '2', '.', '8']\n",
      "['9', '6', '.', '7', '.', '.', '1', '.', '5']\n",
      "['.', '.', '5', '2', '.', '.', '6', '7', '.']\n",
      "\n"
     ]
    }
   ],
   "source": [
    "## This cell is only for clarification and it is not part of the original code\n",
    "print_grid(Grid)"
   ]
  },
  {
   "cell_type": "code",
   "execution_count": 19,
   "metadata": {},
   "outputs": [
    {
     "name": "stdout",
     "output_type": "stream",
     "text": [
      "x: [50, 2, 150, 200]\n",
      "y: [50, 2, 150, 200]\n",
      "z: [1, 2, 3]\n"
     ]
    }
   ],
   "source": [
    "## This cell is only for clarification and it is not part of the original code\n",
    "# Explaining deep copy\n",
    "from copy import deepcopy\n",
    "x = [1,2,3]\n",
    "y = x\n",
    "z = deepcopy(x)\n",
    "x[0] = 50\n",
    "x[2] = 150\n",
    "x.append(200)\n",
    "print('x:' , x)\n",
    "print('y:' , y)\n",
    "print('z:' , z)\n"
   ]
  },
  {
   "cell_type": "code",
   "execution_count": 20,
   "metadata": {
    "scrolled": true
   },
   "outputs": [
    {
     "name": "stdout",
     "output_type": "stream",
     "text": [
      "1   1   2   3   5   8   13   21   34   55   89   144   233   377   610   987   1597   2584   4181   "
     ]
    }
   ],
   "source": [
    "## This cell is only for clarification and it is not part of the original code\n",
    "## f(n) = f(n-1) + f(n-2)\n",
    "## 1,1,2,3,5,8,13,21,34,55,89, ...\n",
    "def fibonacci(n):\n",
    "    ## NEEDS EDITTING\n",
    "    if n == 1 or n == 2:\n",
    "        return 1\n",
    "    return fibonacci(n-1)+fibonacci(n-2)\n",
    "\n",
    "for i in range (1,20):\n",
    "    print(fibonacci(i), end='   ')\n",
    "    "
   ]
  },
  {
   "cell_type": "code",
   "execution_count": 21,
   "metadata": {},
   "outputs": [
    {
     "ename": "Error",
     "evalue": "Canceled future for execute_request message before replies were done",
     "output_type": "error",
     "traceback": [
      "Error: Canceled future for execute_request message before replies were done",
      "at t.KernelShellFutureHandler.dispose (c:\\Users\\jgpco\\.vscode\\extensions\\ms-toolsai.jupyter-2022.3.1000901801\\out\\extension.js:2:1204175)",
      "at c:\\Users\\jgpco\\.vscode\\extensions\\ms-toolsai.jupyter-2022.3.1000901801\\out\\extension.js:2:1223227",
      "at Map.forEach (<anonymous>)",
      "at v._clearKernelState (c:\\Users\\jgpco\\.vscode\\extensions\\ms-toolsai.jupyter-2022.3.1000901801\\out\\extension.js:2:1223212)",
      "at v.dispose (c:\\Users\\jgpco\\.vscode\\extensions\\ms-toolsai.jupyter-2022.3.1000901801\\out\\extension.js:2:1216694)",
      "at c:\\Users\\jgpco\\.vscode\\extensions\\ms-toolsai.jupyter-2022.3.1000901801\\out\\extension.js:2:533674",
      "at t.swallowExceptions (c:\\Users\\jgpco\\.vscode\\extensions\\ms-toolsai.jupyter-2022.3.1000901801\\out\\extension.js:2:913059)",
      "at dispose (c:\\Users\\jgpco\\.vscode\\extensions\\ms-toolsai.jupyter-2022.3.1000901801\\out\\extension.js:2:533652)",
      "at t.RawSession.dispose (c:\\Users\\jgpco\\.vscode\\extensions\\ms-toolsai.jupyter-2022.3.1000901801\\out\\extension.js:2:537330)",
      "at runMicrotasks (<anonymous>)",
      "at processTicksAndRejections (node:internal/process/task_queues:96:5)"
     ]
    }
   ],
   "source": [
    "def solve_step_in_sudoko(last_Grid, r, c):\n",
    "    ## Base Case - print and exit\n",
    "    if is_complete(last_Grid):\n",
    "        print('Complete:')\n",
    "        print_grid(last_Grid)\n",
    "        return 0\n",
    "    ## get a list of all legal numbers for next cell\n",
    "    legal_for_cell, _, _ = get_legal_for_cell(r,c, last_Grid) # get legal next number for cell\n",
    "    \n",
    "    # loop through each legal item for next cell\n",
    "    # if there is no legal item next, the for loop is skipped,\n",
    "    # ending this iteration of the function call, returning to the previous call point.\n",
    "    # if this item is the right one, the recursion calls will reach the base case\n",
    "    # if it isn't, the recursion won't reach base case, and the for loop will move to the next item\n",
    "    for item in legal_for_cell: # for each legal number in next cell\n",
    "        new_Grid = deepcopy(last_Grid) # copy the last grid\n",
    "        if last_Grid[r][c]=='.': #check it's an empty cell\n",
    "            new_Grid[r][c]=item #add the legal number to the next cell\n",
    "        new_r, new_c = get_new_r_c(r,c) # get the next cell address\n",
    "        ## the recursion call\n",
    "        solve_step_in_sudoko(new_Grid, new_r, new_c) #recursively call next step\n",
    "    # if the code gets to here, then the for loop has exhausted it's list of legal moves\n",
    "    # without reaching the base case, and the function returns to the place it was called\n",
    "    # (either 1. the for loop in the previous iteration of the function, or 2. the original call)\n",
    "    # if it reaches 2. without solving the grid, the grid has no solution\n",
    "\n",
    "solve_step_in_sudoko(Grid, 0, 0)"
   ]
  },
  {
   "cell_type": "code",
   "execution_count": null,
   "metadata": {},
   "outputs": [],
   "source": []
  }
 ],
 "metadata": {
  "kernelspec": {
   "display_name": "Python 3",
   "language": "python",
   "name": "python3"
  },
  "language_info": {
   "codemirror_mode": {
    "name": "ipython",
    "version": 3
   },
   "file_extension": ".py",
   "mimetype": "text/x-python",
   "name": "python",
   "nbconvert_exporter": "python",
   "pygments_lexer": "ipython3",
   "version": "3.10.3"
  }
 },
 "nbformat": 4,
 "nbformat_minor": 4
}
